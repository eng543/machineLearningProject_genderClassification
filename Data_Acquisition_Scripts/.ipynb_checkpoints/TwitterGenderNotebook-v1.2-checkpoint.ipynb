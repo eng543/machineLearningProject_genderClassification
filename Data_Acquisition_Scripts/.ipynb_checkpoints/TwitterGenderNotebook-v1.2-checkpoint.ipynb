{
 "cells": [
  {
   "cell_type": "code",
   "execution_count": 2,
   "metadata": {
    "collapsed": false,
    "scrolled": false
   },
   "outputs": [],
   "source": [
    "from twitter import *\n",
    "from tweepy import *\n",
    "import time"
   ]
  },
  {
   "cell_type": "code",
   "execution_count": 8,
   "metadata": {
    "collapsed": true
   },
   "outputs": [],
   "source": [
    "#!/usr/bin/python\n",
    "\n",
    "#https://dev.twitter.com/rest/reference/get/users/search\n",
    "\n",
    "# Due to authorization, presumably only one script can be running at a time due to call limits. Not totally sure on this.\n",
    "\n",
    "twitter = Twitter(auth = OAuth('512739542-yp06o7mXg6Yrexxz7zdGqpETL5k44PxOYhVKN2bw',\n",
    "                               'cw9Z5PeK5YG7zuDtXpUZD40Apf2VFrUMo1XzWUHN6dn7F',\n",
    "                               'D8XxzNAHM6uUPRlnQJUIYDhex',\n",
    "                               'bubnRJsyEVFchIzY4078GgrUCEZCtPgR83VKctSwYajurpHOrb'))\n",
    "\n",
    "auth = OAuthHandler('D8XxzNAHM6uUPRlnQJUIYDhex', 'bubnRJsyEVFchIzY4078GgrUCEZCtPgR83VKctSwYajurpHOrb')\n",
    "auth.set_access_token('512739542-yp06o7mXg6Yrexxz7zdGqpETL5k44PxOYhVKN2bw', 'cw9Z5PeK5YG7zuDtXpUZD40Apf2VFrUMo1XzWUHN6dn7F')\n",
    "\n",
    "#api = API(auth, retry_count = 0, retry_delay = 5, retry_errors = set([401, 404, 500, 503]), monitor_rate_limit = True, wait_on_rate_limit = True)\n",
    "api = API(auth)\n",
    "users = {}\n",
    "\n",
    "# start with most informative queries. Added additional query due to an imbalance in retrievals. The additional query distributes the calls evenly over time.\n",
    "queries = ['mom', 'dad', 'mother', 'father', 'sister', 'brother', 'aunt', 'uncle', 'gramma', 'grampa', 'grandma', 'grandpa',\n",
    "           'grandmother', 'grandfather', 'mama', 'momma', 'papa', 'male', 'female', 'girl', 'boy', 'man', 'woman',\n",
    "           'trans', 'queer', 'gender', 'binary', 'fluid', 'andro',\n",
    "           'eunuch', 'MTF', 'FTM', 'MTX', 'FTX', 'fem']\n",
    "\n",
    "query_sub = ['mother', 'father', 'male', 'female', 'girl', 'boy', 'man', 'woman', 'trans', 'gender']"
   ]
  },
  {
   "cell_type": "code",
   "execution_count": null,
   "metadata": {
    "collapsed": false
   },
   "outputs": [
    {
     "name": "stdout",
     "output_type": "stream",
     "text": [
      "Naptime: last query = mom\n"
     ]
    }
   ],
   "source": [
    "wf = open(\"results14.txt\", \"a\")\n",
    "\n",
    "# 50 pages per call (1000 total users)\n",
    "num_searches = 10\n",
    "\n",
    "for search in range(num_searches):\n",
    "    entry = 0\n",
    "    for entry in range(len(queries)):\n",
    "        keyword = queries[entry]\n",
    "        retrievals = 0\n",
    "        try:\n",
    "            for user in Cursor(api.search_users, q=keyword).items():\n",
    "            #if user.lang == \"en\":\n",
    "                users[user.id_str] = [keyword, user.location.encode('utf-8'), user.lang.encode('utf-8'), user.description.encode('utf-8')]\n",
    "                user2 = {user.id_str: [keyword, user.location.encode('utf-8'), user.lang.encode('utf-8'), user.description.encode('utf-8')]}\n",
    "                wf.write(str(user2))\n",
    "                wf.write(\"\\n\")\n",
    "                retrievals += 1\n",
    "                if retrievals >= 1000:\n",
    "                    print('1000 retrievals for ' + keyword)\n",
    "                    break\n",
    "                else:\n",
    "                    pass\n",
    "            entry += 1\n",
    "        #else:\n",
    "        #    break\n",
    "\n",
    "        except TweepError: ## some error\n",
    "            print('Naptime: last query = ' + keyword)\n",
    "            time.sleep(60 * 15)\n",
    "            continue\n",
    "\n",
    "        except StopIteration:\n",
    "            break\n",
    "            \n",
    "\n",
    "#wf = open(\"results.txt\", \"w\")\n",
    "#for i in range(0, len(users)):\n",
    "#    wf.write(i)\n",
    "#    wf.write(\"\\n\")\n",
    "\n",
    "wf.close()"
   ]
  },
  {
   "cell_type": "code",
   "execution_count": 3,
   "metadata": {
    "collapsed": false
   },
   "outputs": [],
   "source": [
    "rf = open(\"results.txt\", \"r\")"
   ]
  },
  {
   "cell_type": "code",
   "execution_count": 11,
   "metadata": {
    "collapsed": false
   },
   "outputs": [],
   "source": [
    "id_dict = {16162082}\n",
    "status_list = []\n",
    "\n",
    "\n",
    "for user_id in id_dict:\n",
    "    for status in Cursor(api.user_timeline, id=user_id).items(100):\n",
    "        status_list.append(status)   "
   ]
  },
  {
   "cell_type": "code",
   "execution_count": null,
   "metadata": {
    "collapsed": false,
    "scrolled": false
   },
   "outputs": [],
   "source": []
  },
  {
   "cell_type": "code",
   "execution_count": null,
   "metadata": {
    "collapsed": true
   },
   "outputs": [],
   "source": []
  },
  {
   "cell_type": "code",
   "execution_count": null,
   "metadata": {
    "collapsed": false
   },
   "outputs": [],
   "source": []
  },
  {
   "cell_type": "raw",
   "metadata": {},
   "source": []
  }
 ],
 "metadata": {
  "kernelspec": {
   "display_name": "Python 3",
   "language": "python",
   "name": "python3"
  },
  "language_info": {
   "codemirror_mode": {
    "name": "ipython",
    "version": 3
   },
   "file_extension": ".py",
   "mimetype": "text/x-python",
   "name": "python",
   "nbconvert_exporter": "python",
   "pygments_lexer": "ipython3",
   "version": "3.5.1"
  }
 },
 "nbformat": 4,
 "nbformat_minor": 0
}
