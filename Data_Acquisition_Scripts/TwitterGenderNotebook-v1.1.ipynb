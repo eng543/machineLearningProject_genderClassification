{
 "cells": [
  {
   "cell_type": "code",
   "execution_count": 2,
   "metadata": {
    "collapsed": false,
    "scrolled": false
   },
   "outputs": [
    {
     "ename": "TwitterHTTPError",
     "evalue": "Twitter sent status 400 for URL: 1.1/users/search.json using parameters: (count=20&oauth_consumer_key=D8XxzNAHM6uUPRlnQJUIYDhex&oauth_nonce=953520691932418641&oauth_signature_method=HMAC-SHA1&oauth_timestamp=1461301726&oauth_token=512739542-yp06o7mXg6Yrexxz7zdGqpETL5k44PxOYhVKN2bw&oauth_version=1.0&page=52&q=%22mother%22&oauth_signature=CyuURL1fxMKVn7Xxw1poOt66T0w%3D)\ndetails: {'errors': [{'message': 'Invalid value 52 for parameter page parameter is invalid.', 'code': 44}]}",
     "output_type": "error",
     "traceback": [
      "\u001b[1;31m---------------------------------------------------------------------------\u001b[0m",
      "\u001b[1;31mHTTPError\u001b[0m                                 Traceback (most recent call last)",
      "\u001b[1;32mC:\\Users\\Nathan\\Anaconda3\\lib\\site-packages\\twitter\\api.py\u001b[0m in \u001b[0;36m_handle_response\u001b[1;34m(self, req, uri, arg_data, _timeout)\u001b[0m\n\u001b[0;32m    318\u001b[0m         \u001b[1;32mtry\u001b[0m\u001b[1;33m:\u001b[0m\u001b[1;33m\u001b[0m\u001b[0m\n\u001b[1;32m--> 319\u001b[1;33m             \u001b[0mhandle\u001b[0m \u001b[1;33m=\u001b[0m \u001b[0murllib_request\u001b[0m\u001b[1;33m.\u001b[0m\u001b[0murlopen\u001b[0m\u001b[1;33m(\u001b[0m\u001b[0mreq\u001b[0m\u001b[1;33m,\u001b[0m \u001b[1;33m**\u001b[0m\u001b[0mkwargs\u001b[0m\u001b[1;33m)\u001b[0m\u001b[1;33m\u001b[0m\u001b[0m\n\u001b[0m\u001b[0;32m    320\u001b[0m             \u001b[1;32mif\u001b[0m \u001b[0mhandle\u001b[0m\u001b[1;33m.\u001b[0m\u001b[0mheaders\u001b[0m\u001b[1;33m[\u001b[0m\u001b[1;34m'Content-Type'\u001b[0m\u001b[1;33m]\u001b[0m \u001b[1;32min\u001b[0m \u001b[1;33m[\u001b[0m\u001b[1;34m'image/jpeg'\u001b[0m\u001b[1;33m,\u001b[0m \u001b[1;34m'image/png'\u001b[0m\u001b[1;33m]\u001b[0m\u001b[1;33m:\u001b[0m\u001b[1;33m\u001b[0m\u001b[0m\n",
      "\u001b[1;32mC:\\Users\\Nathan\\Anaconda3\\lib\\urllib\\request.py\u001b[0m in \u001b[0;36murlopen\u001b[1;34m(url, data, timeout, cafile, capath, cadefault, context)\u001b[0m\n\u001b[0;32m    161\u001b[0m         \u001b[0mopener\u001b[0m \u001b[1;33m=\u001b[0m \u001b[0m_opener\u001b[0m\u001b[1;33m\u001b[0m\u001b[0m\n\u001b[1;32m--> 162\u001b[1;33m     \u001b[1;32mreturn\u001b[0m \u001b[0mopener\u001b[0m\u001b[1;33m.\u001b[0m\u001b[0mopen\u001b[0m\u001b[1;33m(\u001b[0m\u001b[0murl\u001b[0m\u001b[1;33m,\u001b[0m \u001b[0mdata\u001b[0m\u001b[1;33m,\u001b[0m \u001b[0mtimeout\u001b[0m\u001b[1;33m)\u001b[0m\u001b[1;33m\u001b[0m\u001b[0m\n\u001b[0m\u001b[0;32m    163\u001b[0m \u001b[1;33m\u001b[0m\u001b[0m\n",
      "\u001b[1;32mC:\\Users\\Nathan\\Anaconda3\\lib\\urllib\\request.py\u001b[0m in \u001b[0;36mopen\u001b[1;34m(self, fullurl, data, timeout)\u001b[0m\n\u001b[0;32m    470\u001b[0m             \u001b[0mmeth\u001b[0m \u001b[1;33m=\u001b[0m \u001b[0mgetattr\u001b[0m\u001b[1;33m(\u001b[0m\u001b[0mprocessor\u001b[0m\u001b[1;33m,\u001b[0m \u001b[0mmeth_name\u001b[0m\u001b[1;33m)\u001b[0m\u001b[1;33m\u001b[0m\u001b[0m\n\u001b[1;32m--> 471\u001b[1;33m             \u001b[0mresponse\u001b[0m \u001b[1;33m=\u001b[0m \u001b[0mmeth\u001b[0m\u001b[1;33m(\u001b[0m\u001b[0mreq\u001b[0m\u001b[1;33m,\u001b[0m \u001b[0mresponse\u001b[0m\u001b[1;33m)\u001b[0m\u001b[1;33m\u001b[0m\u001b[0m\n\u001b[0m\u001b[0;32m    472\u001b[0m \u001b[1;33m\u001b[0m\u001b[0m\n",
      "\u001b[1;32mC:\\Users\\Nathan\\Anaconda3\\lib\\urllib\\request.py\u001b[0m in \u001b[0;36mhttp_response\u001b[1;34m(self, request, response)\u001b[0m\n\u001b[0;32m    580\u001b[0m             response = self.parent.error(\n\u001b[1;32m--> 581\u001b[1;33m                 'http', request, response, code, msg, hdrs)\n\u001b[0m\u001b[0;32m    582\u001b[0m \u001b[1;33m\u001b[0m\u001b[0m\n",
      "\u001b[1;32mC:\\Users\\Nathan\\Anaconda3\\lib\\urllib\\request.py\u001b[0m in \u001b[0;36merror\u001b[1;34m(self, proto, *args)\u001b[0m\n\u001b[0;32m    508\u001b[0m             \u001b[0margs\u001b[0m \u001b[1;33m=\u001b[0m \u001b[1;33m(\u001b[0m\u001b[0mdict\u001b[0m\u001b[1;33m,\u001b[0m \u001b[1;34m'default'\u001b[0m\u001b[1;33m,\u001b[0m \u001b[1;34m'http_error_default'\u001b[0m\u001b[1;33m)\u001b[0m \u001b[1;33m+\u001b[0m \u001b[0morig_args\u001b[0m\u001b[1;33m\u001b[0m\u001b[0m\n\u001b[1;32m--> 509\u001b[1;33m             \u001b[1;32mreturn\u001b[0m \u001b[0mself\u001b[0m\u001b[1;33m.\u001b[0m\u001b[0m_call_chain\u001b[0m\u001b[1;33m(\u001b[0m\u001b[1;33m*\u001b[0m\u001b[0margs\u001b[0m\u001b[1;33m)\u001b[0m\u001b[1;33m\u001b[0m\u001b[0m\n\u001b[0m\u001b[0;32m    510\u001b[0m \u001b[1;33m\u001b[0m\u001b[0m\n",
      "\u001b[1;32mC:\\Users\\Nathan\\Anaconda3\\lib\\urllib\\request.py\u001b[0m in \u001b[0;36m_call_chain\u001b[1;34m(self, chain, kind, meth_name, *args)\u001b[0m\n\u001b[0;32m    442\u001b[0m             \u001b[0mfunc\u001b[0m \u001b[1;33m=\u001b[0m \u001b[0mgetattr\u001b[0m\u001b[1;33m(\u001b[0m\u001b[0mhandler\u001b[0m\u001b[1;33m,\u001b[0m \u001b[0mmeth_name\u001b[0m\u001b[1;33m)\u001b[0m\u001b[1;33m\u001b[0m\u001b[0m\n\u001b[1;32m--> 443\u001b[1;33m             \u001b[0mresult\u001b[0m \u001b[1;33m=\u001b[0m \u001b[0mfunc\u001b[0m\u001b[1;33m(\u001b[0m\u001b[1;33m*\u001b[0m\u001b[0margs\u001b[0m\u001b[1;33m)\u001b[0m\u001b[1;33m\u001b[0m\u001b[0m\n\u001b[0m\u001b[0;32m    444\u001b[0m             \u001b[1;32mif\u001b[0m \u001b[0mresult\u001b[0m \u001b[1;32mis\u001b[0m \u001b[1;32mnot\u001b[0m \u001b[1;32mNone\u001b[0m\u001b[1;33m:\u001b[0m\u001b[1;33m\u001b[0m\u001b[0m\n",
      "\u001b[1;32mC:\\Users\\Nathan\\Anaconda3\\lib\\urllib\\request.py\u001b[0m in \u001b[0;36mhttp_error_default\u001b[1;34m(self, req, fp, code, msg, hdrs)\u001b[0m\n\u001b[0;32m    588\u001b[0m     \u001b[1;32mdef\u001b[0m \u001b[0mhttp_error_default\u001b[0m\u001b[1;33m(\u001b[0m\u001b[0mself\u001b[0m\u001b[1;33m,\u001b[0m \u001b[0mreq\u001b[0m\u001b[1;33m,\u001b[0m \u001b[0mfp\u001b[0m\u001b[1;33m,\u001b[0m \u001b[0mcode\u001b[0m\u001b[1;33m,\u001b[0m \u001b[0mmsg\u001b[0m\u001b[1;33m,\u001b[0m \u001b[0mhdrs\u001b[0m\u001b[1;33m)\u001b[0m\u001b[1;33m:\u001b[0m\u001b[1;33m\u001b[0m\u001b[0m\n\u001b[1;32m--> 589\u001b[1;33m         \u001b[1;32mraise\u001b[0m \u001b[0mHTTPError\u001b[0m\u001b[1;33m(\u001b[0m\u001b[0mreq\u001b[0m\u001b[1;33m.\u001b[0m\u001b[0mfull_url\u001b[0m\u001b[1;33m,\u001b[0m \u001b[0mcode\u001b[0m\u001b[1;33m,\u001b[0m \u001b[0mmsg\u001b[0m\u001b[1;33m,\u001b[0m \u001b[0mhdrs\u001b[0m\u001b[1;33m,\u001b[0m \u001b[0mfp\u001b[0m\u001b[1;33m)\u001b[0m\u001b[1;33m\u001b[0m\u001b[0m\n\u001b[0m\u001b[0;32m    590\u001b[0m \u001b[1;33m\u001b[0m\u001b[0m\n",
      "\u001b[1;31mHTTPError\u001b[0m: HTTP Error 400: Bad Request",
      "\nDuring handling of the above exception, another exception occurred:\n",
      "\u001b[1;31mTwitterHTTPError\u001b[0m                          Traceback (most recent call last)",
      "\u001b[1;32m<ipython-input-2-359738494919>\u001b[0m in \u001b[0;36m<module>\u001b[1;34m()\u001b[0m\n\u001b[0;32m     33\u001b[0m \u001b[1;32mwhile\u001b[0m \u001b[1;32mTrue\u001b[0m\u001b[1;33m:\u001b[0m\u001b[1;33m\u001b[0m\u001b[0m\n\u001b[0;32m     34\u001b[0m     \u001b[1;32mtry\u001b[0m\u001b[1;33m:\u001b[0m\u001b[1;33m\u001b[0m\u001b[0m\n\u001b[1;32m---> 35\u001b[1;33m         \u001b[0mresults\u001b[0m \u001b[1;33m=\u001b[0m \u001b[0mtwitter\u001b[0m\u001b[1;33m.\u001b[0m\u001b[0musers\u001b[0m\u001b[1;33m.\u001b[0m\u001b[0msearch\u001b[0m\u001b[1;33m(\u001b[0m\u001b[0mq\u001b[0m\u001b[1;33m=\u001b[0m\u001b[1;34m'\"mother\"'\u001b[0m\u001b[1;33m,\u001b[0m \u001b[0mpage\u001b[0m\u001b[1;33m=\u001b[0m\u001b[0mpage\u001b[0m\u001b[1;33m,\u001b[0m \u001b[0mcount\u001b[0m\u001b[1;33m=\u001b[0m\u001b[1;36m20\u001b[0m\u001b[1;33m)\u001b[0m\u001b[1;33m\u001b[0m\u001b[0m\n\u001b[0m\u001b[0;32m     36\u001b[0m         \u001b[1;32mif\u001b[0m \u001b[0mresults\u001b[0m\u001b[1;33m:\u001b[0m\u001b[1;33m\u001b[0m\u001b[0m\n\u001b[0;32m     37\u001b[0m             \u001b[1;32mfor\u001b[0m \u001b[0muser\u001b[0m \u001b[1;32min\u001b[0m \u001b[0mresults\u001b[0m\u001b[1;33m:\u001b[0m\u001b[1;33m\u001b[0m\u001b[0m\n",
      "\u001b[1;32mC:\\Users\\Nathan\\Anaconda3\\lib\\site-packages\\twitter\\api.py\u001b[0m in \u001b[0;36m__call__\u001b[1;34m(self, **kwargs)\u001b[0m\n\u001b[0;32m    310\u001b[0m             \u001b[1;32mreturn\u001b[0m \u001b[0mself\u001b[0m\u001b[1;33m.\u001b[0m\u001b[0m_handle_response_with_retry\u001b[0m\u001b[1;33m(\u001b[0m\u001b[0mreq\u001b[0m\u001b[1;33m,\u001b[0m \u001b[0muri\u001b[0m\u001b[1;33m,\u001b[0m \u001b[0marg_data\u001b[0m\u001b[1;33m,\u001b[0m \u001b[0m_timeout\u001b[0m\u001b[1;33m)\u001b[0m\u001b[1;33m\u001b[0m\u001b[0m\n\u001b[0;32m    311\u001b[0m         \u001b[1;32melse\u001b[0m\u001b[1;33m:\u001b[0m\u001b[1;33m\u001b[0m\u001b[0m\n\u001b[1;32m--> 312\u001b[1;33m             \u001b[1;32mreturn\u001b[0m \u001b[0mself\u001b[0m\u001b[1;33m.\u001b[0m\u001b[0m_handle_response\u001b[0m\u001b[1;33m(\u001b[0m\u001b[0mreq\u001b[0m\u001b[1;33m,\u001b[0m \u001b[0muri\u001b[0m\u001b[1;33m,\u001b[0m \u001b[0marg_data\u001b[0m\u001b[1;33m,\u001b[0m \u001b[0m_timeout\u001b[0m\u001b[1;33m)\u001b[0m\u001b[1;33m\u001b[0m\u001b[0m\n\u001b[0m\u001b[0;32m    313\u001b[0m \u001b[1;33m\u001b[0m\u001b[0m\n\u001b[0;32m    314\u001b[0m     \u001b[1;32mdef\u001b[0m \u001b[0m_handle_response\u001b[0m\u001b[1;33m(\u001b[0m\u001b[0mself\u001b[0m\u001b[1;33m,\u001b[0m \u001b[0mreq\u001b[0m\u001b[1;33m,\u001b[0m \u001b[0muri\u001b[0m\u001b[1;33m,\u001b[0m \u001b[0marg_data\u001b[0m\u001b[1;33m,\u001b[0m \u001b[0m_timeout\u001b[0m\u001b[1;33m=\u001b[0m\u001b[1;32mNone\u001b[0m\u001b[1;33m)\u001b[0m\u001b[1;33m:\u001b[0m\u001b[1;33m\u001b[0m\u001b[0m\n",
      "\u001b[1;32mC:\\Users\\Nathan\\Anaconda3\\lib\\site-packages\\twitter\\api.py\u001b[0m in \u001b[0;36m_handle_response\u001b[1;34m(self, req, uri, arg_data, _timeout)\u001b[0m\n\u001b[0;32m    343\u001b[0m                 \u001b[1;32mreturn\u001b[0m \u001b[1;33m[\u001b[0m\u001b[1;33m]\u001b[0m\u001b[1;33m\u001b[0m\u001b[0m\n\u001b[0;32m    344\u001b[0m             \u001b[1;32melse\u001b[0m\u001b[1;33m:\u001b[0m\u001b[1;33m\u001b[0m\u001b[0m\n\u001b[1;32m--> 345\u001b[1;33m                 \u001b[1;32mraise\u001b[0m \u001b[0mTwitterHTTPError\u001b[0m\u001b[1;33m(\u001b[0m\u001b[0me\u001b[0m\u001b[1;33m,\u001b[0m \u001b[0muri\u001b[0m\u001b[1;33m,\u001b[0m \u001b[0mself\u001b[0m\u001b[1;33m.\u001b[0m\u001b[0mformat\u001b[0m\u001b[1;33m,\u001b[0m \u001b[0marg_data\u001b[0m\u001b[1;33m)\u001b[0m\u001b[1;33m\u001b[0m\u001b[0m\n\u001b[0m\u001b[0;32m    346\u001b[0m \u001b[1;33m\u001b[0m\u001b[0m\n\u001b[0;32m    347\u001b[0m     \u001b[1;32mdef\u001b[0m \u001b[0m_handle_response_with_retry\u001b[0m\u001b[1;33m(\u001b[0m\u001b[0mself\u001b[0m\u001b[1;33m,\u001b[0m \u001b[0mreq\u001b[0m\u001b[1;33m,\u001b[0m \u001b[0muri\u001b[0m\u001b[1;33m,\u001b[0m \u001b[0marg_data\u001b[0m\u001b[1;33m,\u001b[0m \u001b[0m_timeout\u001b[0m\u001b[1;33m=\u001b[0m\u001b[1;32mNone\u001b[0m\u001b[1;33m)\u001b[0m\u001b[1;33m:\u001b[0m\u001b[1;33m\u001b[0m\u001b[0m\n",
      "\u001b[1;31mTwitterHTTPError\u001b[0m: Twitter sent status 400 for URL: 1.1/users/search.json using parameters: (count=20&oauth_consumer_key=D8XxzNAHM6uUPRlnQJUIYDhex&oauth_nonce=953520691932418641&oauth_signature_method=HMAC-SHA1&oauth_timestamp=1461301726&oauth_token=512739542-yp06o7mXg6Yrexxz7zdGqpETL5k44PxOYhVKN2bw&oauth_version=1.0&page=52&q=%22mother%22&oauth_signature=CyuURL1fxMKVn7Xxw1poOt66T0w%3D)\ndetails: {'errors': [{'message': 'Invalid value 52 for parameter page parameter is invalid.', 'code': 44}]}"
     ]
    }
   ],
   "source": [
    "\"\"\"\"\n",
    "#!/usr/bin/python\n",
    "\n",
    "#https://dev.twitter.com/rest/reference/get/users/search\n",
    "\n",
    "from twitter import *\n",
    "from tweepy import *\n",
    "import time\n",
    "\n",
    "twitter = Twitter(auth = OAuth('512739542-yp06o7mXg6Yrexxz7zdGqpETL5k44PxOYhVKN2bw',\n",
    "                               'cw9Z5PeK5YG7zuDtXpUZD40Apf2VFrUMo1XzWUHN6dn7F',\n",
    "                               'D8XxzNAHM6uUPRlnQJUIYDhex',\n",
    "                               'bubnRJsyEVFchIzY4078GgrUCEZCtPgR83VKctSwYajurpHOrb'))\n",
    "\n",
    "auth = OAuthHandler('D8XxzNAHM6uUPRlnQJUIYDhex', 'bubnRJsyEVFchIzY4078GgrUCEZCtPgR83VKctSwYajurpHOrb')\n",
    "auth.set_access_token('512739542-yp06o7mXg6Yrexxz7zdGqpETL5k44PxOYhVKN2bw', 'cw9Z5PeK5YG7zuDtXpUZD40Apf2VFrUMo1XzWUHN6dn7F')\n",
    "\n",
    "api = API(auth)\n",
    "\n",
    "users = {}\n",
    "\n",
    "# start with most informative queries\n",
    "queries = ['mom', 'dad', 'mother', 'father', 'sister', 'brother', 'aunt', 'uncle', 'gramma', 'grampa', 'grandma', 'grandpa',\n",
    "           'grandmother', 'grandfather', 'mama', 'momma', 'papa', 'male', 'female', 'girl', 'boy', 'man', 'woman',\n",
    "           'trans', 'queer', 'gender', 'binary', 'fluid', 'andro',\n",
    "           'eunuch', 'MTF', 'FTM', 'MTX', 'FTX']\n",
    "\n",
    "query_sub = ['mother', 'father', 'male', 'female', 'girl', 'boy', 'man', 'woman', 'trans', 'gender']\n",
    "\n",
    "wf = open(\"results2.txt\", \"w\")\n",
    "\n",
    "# 50 pages per call (1000 total users)\n",
    "page = 1\n",
    "while True:\n",
    "    try:\n",
    "        results = twitter.users.search(q='\"mother\"', page=page, count=20)\n",
    "        if results:\n",
    "            for user in results:\n",
    "                if user[\"lang\"] == \"en\":\n",
    "                    users[user[\"id_str\"].encode('utf-8')] = [user[\"location\"].encode('utf-8'), user[\"lang\"].encode('utf-8'), user[\"description\"].encode('utf-8')]\n",
    "                    user2 = {user[\"id_str\"].encode('utf-8'): [user[\"location\"].encode('utf-8'), user[\"lang\"].encode('utf-8'), user[\"description\"].encode('utf-8')]}\n",
    "                    wf.write(str(user2))\n",
    "                    wf.write(\"\\n\")\n",
    "        else:\n",
    "            break\n",
    "\n",
    "        page += 1\n",
    "\n",
    "\n",
    "    except TweepError: ## some error\n",
    "        time.sleep(60 * 15)\n",
    "        continue\n",
    "\n",
    "    except StopIteration:\n",
    "        break\n",
    "\n",
    "#wf = open(\"results.txt\", \"w\")\n",
    "#for i in range(0, len(users)):\n",
    "#    wf.write(i)\n",
    "#    wf.write(\"\\n\")\n",
    "\n",
    "wf.close()\n",
    "\"\"\""
   ]
  },
  {
   "cell_type": "code",
   "execution_count": null,
   "metadata": {
    "collapsed": false
   },
   "outputs": [
    {
     "name": "stdout",
     "output_type": "stream",
     "text": [
      "1000 retrievals for mom\n",
      "1000 retrievals for dad\n",
      "1000 retrievals for mother\n",
      "Naptime: last query = father\n"
     ]
    }
   ],
   "source": [
    "#!/usr/bin/python\n",
    "\n",
    "#https://dev.twitter.com/rest/reference/get/users/search\n",
    "\n",
    "from twitter import *\n",
    "from tweepy import *\n",
    "import time\n",
    "\n",
    "# Due to authorization, presumably only one script can be running at a time due to call limits. Not totally sure on this.\n",
    "\n",
    "twitter = Twitter(auth = OAuth('512739542-yp06o7mXg6Yrexxz7zdGqpETL5k44PxOYhVKN2bw',\n",
    "                               'cw9Z5PeK5YG7zuDtXpUZD40Apf2VFrUMo1XzWUHN6dn7F',\n",
    "                               'D8XxzNAHM6uUPRlnQJUIYDhex',\n",
    "                               'bubnRJsyEVFchIzY4078GgrUCEZCtPgR83VKctSwYajurpHOrb'))\n",
    "\n",
    "auth = OAuthHandler('D8XxzNAHM6uUPRlnQJUIYDhex', 'bubnRJsyEVFchIzY4078GgrUCEZCtPgR83VKctSwYajurpHOrb')\n",
    "auth.set_access_token('512739542-yp06o7mXg6Yrexxz7zdGqpETL5k44PxOYhVKN2bw', 'cw9Z5PeK5YG7zuDtXpUZD40Apf2VFrUMo1XzWUHN6dn7F')\n",
    "\n",
    "#api = API(auth, retry_count = 0, retry_delay = 5, retry_errors = set([401, 404, 500, 503]), monitor_rate_limit = True, wait_on_rate_limit = True)\n",
    "api = API(auth)\n",
    "users = {}\n",
    "\n",
    "# start with most informative queries. Added additional query due to an imbalance in retrievals. The additional query distributes the calls evenly over time.\n",
    "queries = ['mom', 'dad', 'mother', 'father', 'sister', 'brother', 'aunt', 'uncle', 'gramma', 'grampa', 'grandma', 'grandpa',\n",
    "           'grandmother', 'grandfather', 'mama', 'momma', 'papa', 'male', 'female', 'girl', 'boy', 'man', 'woman',\n",
    "           'trans', 'queer', 'gender', 'binary', 'fluid', 'andro',\n",
    "           'eunuch', 'MTF', 'FTM', 'MTX', 'FTX', 'fem']\n",
    "\n",
    "query_sub = ['mother', 'father', 'male', 'female', 'girl', 'boy', 'man', 'woman', 'trans', 'gender']\n",
    "\n",
    "wf = open(\"results9.txt\", \"a\")\n",
    "\n",
    "# 50 pages per call (1000 total users)\n",
    "num_searches = 5\n",
    "\n",
    "for search in range(num_searches):\n",
    "    entry = 0\n",
    "    for entry in range(len(queries)):\n",
    "        keyword = queries[entry]\n",
    "        retrievals = 0\n",
    "        try:\n",
    "            for user in Cursor(api.search_users, q=keyword).items():\n",
    "            #if user.lang == \"en\":\n",
    "                users[user.id_str] = [keyword, user.location.encode('utf-8'), user.lang.encode('utf-8'), user.description.encode('utf-8')]\n",
    "                user2 = {user.id_str: [keyword, user.location.encode('utf-8'), user.lang.encode('utf-8'), user.description.encode('utf-8')]}\n",
    "                wf.write(str(user2))\n",
    "                wf.write(\"\\n\")\n",
    "                retrievals += 1\n",
    "                if retrievals >= 1000:\n",
    "                    print('1000 retrievals for ' + keyword)\n",
    "                    break\n",
    "                else:\n",
    "                    pass\n",
    "            entry += 1\n",
    "        #else:\n",
    "        #    break\n",
    "\n",
    "        except TweepError: ## some error\n",
    "            print('Naptime: last query = ' + keyword)\n",
    "            time.sleep(60 * 15)\n",
    "            continue\n",
    "\n",
    "        except StopIteration:\n",
    "            break\n",
    "            \n",
    "\n",
    "#wf = open(\"results.txt\", \"w\")\n",
    "#for i in range(0, len(users)):\n",
    "#    wf.write(i)\n",
    "#    wf.write(\"\\n\")\n",
    "\n",
    "wf.close()"
   ]
  },
  {
   "cell_type": "code",
   "execution_count": null,
   "metadata": {
    "collapsed": false
   },
   "outputs": [],
   "source": []
  },
  {
   "cell_type": "code",
   "execution_count": null,
   "metadata": {
    "collapsed": false
   },
   "outputs": [],
   "source": []
  },
  {
   "cell_type": "code",
   "execution_count": null,
   "metadata": {
    "collapsed": false,
    "scrolled": false
   },
   "outputs": [],
   "source": []
  },
  {
   "cell_type": "code",
   "execution_count": null,
   "metadata": {
    "collapsed": true
   },
   "outputs": [],
   "source": []
  },
  {
   "cell_type": "code",
   "execution_count": null,
   "metadata": {
    "collapsed": false
   },
   "outputs": [],
   "source": []
  },
  {
   "cell_type": "raw",
   "metadata": {},
   "source": []
  }
 ],
 "metadata": {
  "kernelspec": {
   "display_name": "Python 3",
   "language": "python",
   "name": "python3"
  },
  "language_info": {
   "codemirror_mode": {
    "name": "ipython",
    "version": 3
   },
   "file_extension": ".py",
   "mimetype": "text/x-python",
   "name": "python",
   "nbconvert_exporter": "python",
   "pygments_lexer": "ipython3",
   "version": "3.5.1"
  }
 },
 "nbformat": 4,
 "nbformat_minor": 0
}
